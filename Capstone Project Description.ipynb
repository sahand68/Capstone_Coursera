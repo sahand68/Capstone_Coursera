{
 "cells": [
  {
   "cell_type": "markdown",
   "metadata": {},
   "source": [
    "Problem description:      \n",
    "I live in the city of Vancouver/ Canada with my girlfriend and we both work fulltime. We are at a stage in our life that we want to buy a house but Vancouver housing market is very unstable. Currently the sales are very low and it has caused the prices to dip, but this is not the case for all the neighborhoods and types of houses. \n",
    "My goal is to create a recommender system or a virtual real-estate agent with neural networks that can help me choose the neighborhood and the time I should enter the market and what properties best match my needs.\n",
    "\n",
    "Data format:\n",
    "\n",
    " I plan to get the data from a government organization called BC assessment which will have the following information:\n",
    " \n",
    "Assessment Area\tManual Class Code,\tLot Dimensions,Jurisdiction,\tNeighborhood Code,\tLand Title Document Number,Roll Number\tElectoral Area\tLand Title PID\n",
    "Number,School District,\tActual Use Code\tLegal Description,Street Number,Property Class\tEquity Code,Apartment Number,\tLand Actual Value,\tStreet Direction,\tImprovement Actual Value,\tStreet Name\tTotal Actual Value\t\n",
    "\n",
    "Neural network will be trained on the data obtained from BC assessment and will make prediction on the future housing pricing, there will also be Kmean clustering algorithm that will be trained alongside the neural network and their prediction will be averaged and the recommendation will be given based on that. \n",
    "Furthermore, location coordinates of these properties are fetched by making API calls to google maps. Based upon the budget of the client the current/ predicted average prices are compared and all recommendations for the locations are made by plotting them on map of Vancouver. The recommended locations are farther fed into Foursquare API calls to determine various venues in proximity to them. All reported venues are then tabulated and presented to the user. Important facilities like hospitals, grocery stor5es, elementary schools, high schools are searched in vicinity of each location and then reported in tabular form to the user. \n"
   ]
  },
  {
   "cell_type": "code",
   "execution_count": null,
   "metadata": {},
   "outputs": [],
   "source": []
  }
 ],
 "metadata": {
  "kernelspec": {
   "display_name": "Python [default]",
   "language": "python",
   "name": "python3"
  },
  "language_info": {
   "codemirror_mode": {
    "name": "ipython",
    "version": 3
   },
   "file_extension": ".py",
   "mimetype": "text/x-python",
   "name": "python",
   "nbconvert_exporter": "python",
   "pygments_lexer": "ipython3",
   "version": "3.6.6"
  }
 },
 "nbformat": 4,
 "nbformat_minor": 2
}
